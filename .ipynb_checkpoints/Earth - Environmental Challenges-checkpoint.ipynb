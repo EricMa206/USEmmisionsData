{
 "cells": [
  {
   "cell_type": "markdown",
   "metadata": {},
   "source": [
    "### What environmental challenges are important to your community?"
   ]
  },
  {
   "cell_type": "markdown",
   "metadata": {},
   "source": [
    "US Census - Harnessing Collab for Earth’s Challenges  \n",
    "Radhika Bhatt  - \n",
    "Marcella Mackey  \n",
    "\n",
    "The Census Open Innovation Labs  \n",
    "The Opportunity Project - Opportunity.census.gov  \n",
    "\n",
    "Can you have democracy at a non-local level? Is it technocracy?  \n",
    "\n",
    "Video game using federal open data.\n",
    "\n",
    "The blue economy, disaster response, smart cities, air quality, plastic waste reduction.\n",
    "\n",
    "\n",
    "Greenspace lost and resilience  \n",
    "“Pave paradise and put up a parking lot”  \n",
    "\n",
    "Subject Matter Experts \n",
    "\n",
    "Parks Department  \n",
    "- Green Thumbs  \n",
    "- Urban Foraging/Herbalists  \n",
    "Farming and Composting  \n",
    "- Farmers  \n",
    "- Soil Experts  \n",
    "- Food Access  \n",
    "- Real Estate  \n",
    "- Journalists  \n",
    "Land owners  \n",
    "Data Scientists  \n",
    "\n",
    "\n",
    "Datasets\n",
    "\n",
    "- SNAP  \n",
    "- Development/ Construction/ Building Permits  \n",
    "- Tree Census  \n",
    "\n",
    "- Native Species  \n",
    "- Neighborhood distance  \n",
    "\n",
    "\n"
   ]
  },
  {
   "cell_type": "code",
   "execution_count": null,
   "metadata": {},
   "outputs": [],
   "source": []
  }
 ],
 "metadata": {
  "kernelspec": {
   "display_name": "Python 3",
   "language": "python",
   "name": "python3"
  },
  "language_info": {
   "codemirror_mode": {
    "name": "ipython",
    "version": 3
   },
   "file_extension": ".py",
   "mimetype": "text/x-python",
   "name": "python",
   "nbconvert_exporter": "python",
   "pygments_lexer": "ipython3",
   "version": "3.6.6"
  }
 },
 "nbformat": 4,
 "nbformat_minor": 2
}
